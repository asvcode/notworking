{
 "cells": [
  {
   "cell_type": "code",
   "execution_count": null,
   "metadata": {},
   "outputs": [],
   "source": [
    "# default_exp preprocessing"
   ]
  },
  {
   "cell_type": "markdown",
   "metadata": {},
   "source": [
    "# pre_processing\n",
    "\n",
    "\n",
    "> processing"
   ]
  },
  {
   "cell_type": "code",
   "execution_count": null,
   "metadata": {},
   "outputs": [],
   "source": [
    "#hide\n",
    "from nbdev.showdoc import *"
   ]
  },
  {
   "cell_type": "markdown",
   "metadata": {},
   "source": [
    "![preprocessing](images/graphic8.PNG)"
   ]
  },
  {
   "cell_type": "code",
   "execution_count": null,
   "metadata": {},
   "outputs": [],
   "source": [
    "#export\n",
    "import pydicom,kornia,skimage\n",
    "from fastai.vision.all import *\n",
    "from fastai.medical.imaging import *\n",
    "from torchvision.utils import save_image"
   ]
  },
  {
   "cell_type": "markdown",
   "metadata": {},
   "source": [
    "### Mask & Save"
   ]
  },
  {
   "cell_type": "markdown",
   "metadata": {},
   "source": [
    "> Note: View Mask & Save tutorial on Kaggle (click on Kaggle icon)\n",
    "\n",
    "[![kaggle](images/kaggle.PNG)](https://www.kaggle.com/avirdee/mask-and-save-tutorial/)"
   ]
  },
  {
   "cell_type": "code",
   "execution_count": null,
   "metadata": {},
   "outputs": [],
   "source": [
    "#export\n",
    "def mask_and_save_path(file: (L), source=None, show=False, window=dicom_windows.lungs, sigma:float=0.1,\\\n",
    "                  thresh:float=0.9, save=False, save_path=None):\n",
    "    \"Helper to create masks based on dicom window with the option to save the updated image from path\"\n",
    "    image_list = []\n",
    "    for i in file:\n",
    "        ##This line will have to be changed depending on what platform is being used\n",
    "        str_file = str(i); file_name = str_file.split('.')[0].split('\\\\')[-1] #windows\n",
    "        #str_file = str(i); file_name = str_file.split('/')[-1].split('.')[0] #kaggle\n",
    "        dcm = dcmread(i)\n",
    "        wind = dcm.windowed(*window)\n",
    "        mask = dcm.mask_from_blur(window, sigma=sigma, thresh=thresh, remove_max=False)\n",
    "        bbs = mask2bbox(mask)\n",
    "        lo,hi = bbs\n",
    "        imh = wind[lo[0]:hi[0],lo[1]:hi[1]]\n",
    "        if save is not False:\n",
    "            if not os.path.exists(save_path):\n",
    "                os.makedirs(save_path)   \n",
    "            save_image(imh, f'{save_path}/{file_name}.png')\n",
    "        else:\n",
    "            pass\n",
    "        image_list.append(imh)\n",
    "    if show is not False:\n",
    "        show_images(image_list[:10], nrows=1)\n",
    "    else:\n",
    "        pass"
   ]
  },
  {
   "cell_type": "code",
   "execution_count": null,
   "metadata": {},
   "outputs": [
    {
     "data": {
      "text/markdown": [
       "<h4 id=\"mask_and_save_path\" class=\"doc_header\"><code>mask_and_save_path</code><a href=\"__main__.py#L2\" class=\"source_link\" style=\"float:right\">[source]</a></h4>\n",
       "\n",
       "> <code>mask_and_save_path</code>(**`file`**:`L`, **`source`**=*`None`*, **`show`**=*`False`*, **`window`**=*`(1500, -600)`*, **`sigma`**:`float`=*`0.1`*, **`thresh`**:`float`=*`0.9`*, **`save`**=*`False`*, **`save_path`**=*`None`*)\n",
       "\n",
       "Helper to create masks based on dicom window with the option to save the updated image from path"
      ],
      "text/plain": [
       "<IPython.core.display.Markdown object>"
      ]
     },
     "metadata": {},
     "output_type": "display_data"
    }
   ],
   "source": [
    "show_doc(mask_and_save_path)"
   ]
  },
  {
   "cell_type": "code",
   "execution_count": null,
   "metadata": {},
   "outputs": [],
   "source": [
    "#export\n",
    "def mask_and_save_df(file: (pd.DataFrame), source=None, show=False, window=dicom_windows.lungs, sigma:float=0.1,\\\n",
    "                  thresh:float=0.9, save=False, save_path=None):\n",
    "    \"Helper to create masks based on dicom window with the option to save the updated image from a dataframe\"\n",
    "    image_list = []\n",
    "    for i in file.index:\n",
    "        file_path = f\"{source}/{file.iloc[i]['PatientID']}/{file.iloc[i]['InstanceNumber']}.dcm\"\n",
    "        file_name = file.iloc[i]['InstanceNumber']\n",
    "        dcm = dcmread(file_path)\n",
    "        wind = dcm.windowed(*window)\n",
    "        mask = dcm.mask_from_blur(window, sigma=sigma, thresh=thresh, remove_max=False)\n",
    "        bbs = mask2bbox(mask)\n",
    "        lo,hi = bbs\n",
    "        imh = wind[lo[0]:hi[0],lo[1]:hi[1]]\n",
    "        if save is not False:\n",
    "            if not os.path.exists(save_path):\n",
    "                os.makedirs(save_path)   \n",
    "            save_image(imh, f'{save_path}/{file_name}.png')\n",
    "        else:\n",
    "            pass\n",
    "        image_list.append(imh)\n",
    "    if show is not False:\n",
    "        show_images(image_list[:10], nrows=1)\n",
    "    else:\n",
    "        pass"
   ]
  },
  {
   "cell_type": "code",
   "execution_count": null,
   "metadata": {},
   "outputs": [
    {
     "data": {
      "text/markdown": [
       "<h4 id=\"mask_and_save_df\" class=\"doc_header\"><code>mask_and_save_df</code><a href=\"__main__.py#L2\" class=\"source_link\" style=\"float:right\">[source]</a></h4>\n",
       "\n",
       "> <code>mask_and_save_df</code>(**`file`**:`DataFrame`, **`source`**=*`None`*, **`show`**=*`False`*, **`window`**=*`(1500, -600)`*, **`sigma`**:`float`=*`0.1`*, **`thresh`**:`float`=*`0.9`*, **`save`**=*`False`*, **`save_path`**=*`None`*)\n",
       "\n",
       "Helper to create masks based on dicom window with the option to save the updated image from a dataframe"
      ],
      "text/plain": [
       "<IPython.core.display.Markdown object>"
      ]
     },
     "metadata": {},
     "output_type": "display_data"
    }
   ],
   "source": [
    "show_doc(mask_and_save_df)"
   ]
  },
  {
   "cell_type": "markdown",
   "metadata": {},
   "source": [
    "`fastai` has a handy method `from.dicoms` that can access dicom metadata and display this in a dataframe."
   ]
  },
  {
   "cell_type": "code",
   "execution_count": null,
   "metadata": {},
   "outputs": [
    {
     "data": {
      "text/html": [],
      "text/plain": [
       "<IPython.core.display.HTML object>"
      ]
     },
     "metadata": {},
     "output_type": "display_data"
    },
    {
     "data": {
      "text/html": [
       "<div>\n",
       "<style scoped>\n",
       "    .dataframe tbody tr th:only-of-type {\n",
       "        vertical-align: middle;\n",
       "    }\n",
       "\n",
       "    .dataframe tbody tr th {\n",
       "        vertical-align: top;\n",
       "    }\n",
       "\n",
       "    .dataframe thead th {\n",
       "        text-align: right;\n",
       "    }\n",
       "</style>\n",
       "<table border=\"1\" class=\"dataframe\">\n",
       "  <thead>\n",
       "    <tr style=\"text-align: right;\">\n",
       "      <th></th>\n",
       "      <th>SpecificCharacterSet</th>\n",
       "      <th>ImageType</th>\n",
       "      <th>SOPInstanceUID</th>\n",
       "      <th>Modality</th>\n",
       "      <th>Manufacturer</th>\n",
       "      <th>ManufacturerModelName</th>\n",
       "      <th>PatientName</th>\n",
       "      <th>PatientID</th>\n",
       "      <th>PatientSex</th>\n",
       "      <th>DeidentificationMethod</th>\n",
       "      <th>...</th>\n",
       "      <th>ImageOrientationPatient3</th>\n",
       "      <th>ImageOrientationPatient4</th>\n",
       "      <th>ImageOrientationPatient5</th>\n",
       "      <th>MultiPixelSpacing</th>\n",
       "      <th>PixelSpacing1</th>\n",
       "      <th>img_min</th>\n",
       "      <th>img_max</th>\n",
       "      <th>img_mean</th>\n",
       "      <th>img_std</th>\n",
       "      <th>img_pct_window</th>\n",
       "    </tr>\n",
       "  </thead>\n",
       "  <tbody>\n",
       "    <tr>\n",
       "      <th>0</th>\n",
       "      <td>ISO_IR 100</td>\n",
       "      <td>ORIGINAL</td>\n",
       "      <td>2.25.12297650151329871895440507938349160734</td>\n",
       "      <td>CT</td>\n",
       "      <td>GE MEDICAL SYSTEMS</td>\n",
       "      <td>LightSpeed VCT</td>\n",
       "      <td>(I, D, 0, 0, 0, 0, 7, 6, 3, 7, 2, 0, 2, 1, 7, 7, 4, 1, 1, 9, 5, 6, 4, 3, 0)</td>\n",
       "      <td>ID00007637202177411956430</td>\n",
       "      <td></td>\n",
       "      <td>Table;</td>\n",
       "      <td>...</td>\n",
       "      <td>0.0</td>\n",
       "      <td>1.0</td>\n",
       "      <td>0.0</td>\n",
       "      <td>1</td>\n",
       "      <td>0.652344</td>\n",
       "      <td>-2000</td>\n",
       "      <td>2842</td>\n",
       "      <td>-1.454884</td>\n",
       "      <td>1137.488858</td>\n",
       "      <td>0.058094</td>\n",
       "    </tr>\n",
       "    <tr>\n",
       "      <th>1</th>\n",
       "      <td>ISO_IR 100</td>\n",
       "      <td>ORIGINAL</td>\n",
       "      <td>2.25.37611372879908126511187998276199853341</td>\n",
       "      <td>CT</td>\n",
       "      <td>GE MEDICAL SYSTEMS</td>\n",
       "      <td>LightSpeed VCT</td>\n",
       "      <td>(I, D, 0, 0, 0, 0, 7, 6, 3, 7, 2, 0, 2, 1, 7, 7, 4, 1, 1, 9, 5, 6, 4, 3, 0)</td>\n",
       "      <td>ID00007637202177411956430</td>\n",
       "      <td></td>\n",
       "      <td>Table;</td>\n",
       "      <td>...</td>\n",
       "      <td>0.0</td>\n",
       "      <td>1.0</td>\n",
       "      <td>0.0</td>\n",
       "      <td>1</td>\n",
       "      <td>0.652344</td>\n",
       "      <td>-2000</td>\n",
       "      <td>2918</td>\n",
       "      <td>19.038597</td>\n",
       "      <td>1138.876560</td>\n",
       "      <td>0.068130</td>\n",
       "    </tr>\n",
       "  </tbody>\n",
       "</table>\n",
       "<p>2 rows × 67 columns</p>\n",
       "</div>"
      ],
      "text/plain": [
       "  SpecificCharacterSet ImageType                               SOPInstanceUID  \\\n",
       "0           ISO_IR 100  ORIGINAL  2.25.12297650151329871895440507938349160734   \n",
       "1           ISO_IR 100  ORIGINAL  2.25.37611372879908126511187998276199853341   \n",
       "\n",
       "  Modality        Manufacturer ManufacturerModelName  \\\n",
       "0       CT  GE MEDICAL SYSTEMS        LightSpeed VCT   \n",
       "1       CT  GE MEDICAL SYSTEMS        LightSpeed VCT   \n",
       "\n",
       "                                                                   PatientName  \\\n",
       "0  (I, D, 0, 0, 0, 0, 7, 6, 3, 7, 2, 0, 2, 1, 7, 7, 4, 1, 1, 9, 5, 6, 4, 3, 0)   \n",
       "1  (I, D, 0, 0, 0, 0, 7, 6, 3, 7, 2, 0, 2, 1, 7, 7, 4, 1, 1, 9, 5, 6, 4, 3, 0)   \n",
       "\n",
       "                   PatientID PatientSex DeidentificationMethod  ...  \\\n",
       "0  ID00007637202177411956430                            Table;  ...   \n",
       "1  ID00007637202177411956430                            Table;  ...   \n",
       "\n",
       "  ImageOrientationPatient3  ImageOrientationPatient4  \\\n",
       "0                      0.0                       1.0   \n",
       "1                      0.0                       1.0   \n",
       "\n",
       "   ImageOrientationPatient5  MultiPixelSpacing  PixelSpacing1  img_min  \\\n",
       "0                       0.0                  1       0.652344    -2000   \n",
       "1                       0.0                  1       0.652344    -2000   \n",
       "\n",
       "   img_max   img_mean      img_std  img_pct_window  \n",
       "0     2842  -1.454884  1137.488858        0.058094  \n",
       "1     2918  19.038597  1138.876560        0.068130  \n",
       "\n",
       "[2 rows x 67 columns]"
      ]
     },
     "execution_count": null,
     "metadata": {},
     "output_type": "execute_result"
    }
   ],
   "source": [
    "m_items = get_dicom_files('D:/Datasets/osic-pulmonary-fibrosis-progression/train/ID00007637202177411956430')\n",
    "source = 'D:/Datasets/osic-pulmonary-fibrosis-progression/train/'\n",
    "dicom_dataframe = pd.DataFrame.from_dicoms(m_items)\n",
    "dicom_dataframe[:2]"
   ]
  },
  {
   "cell_type": "markdown",
   "metadata": {},
   "source": [
    "To see how `mask_and_save` works here are 10 original images (we can use `get_dicom_image` to view the images). To save the images in `png` format change save to `True` and set a `save_path`"
   ]
  },
  {
   "cell_type": "markdown",
   "metadata": {},
   "source": [
    "Setting the `sigma` value to 0.1 reduces the image area only to the areas that are important"
   ]
  },
  {
   "cell_type": "markdown",
   "metadata": {},
   "source": [
    "### Dicom metadata dict"
   ]
  },
  {
   "cell_type": "markdown",
   "metadata": {},
   "source": [
    "Updated `from_dicoms` method to `from_dicoms2` that allows you to choose the window setting"
   ]
  },
  {
   "cell_type": "code",
   "execution_count": null,
   "metadata": {},
   "outputs": [],
   "source": [
    "#export\n",
    "@patch\n",
    "def updated_dict(self:DcmDataset, windows=[dicom_windows.lungs]):\n",
    "    pxdata = (0x7fe0,0x0010)\n",
    "    vals = [self[o] for o in self.keys() if o != pxdata]\n",
    "    its = [(v.keyword, v.value) for v in vals]\n",
    "    res = dict(its)\n",
    "    res['fname'] = self.filename\n",
    "    \n",
    "    stats = 'min', 'max', 'mean', 'std'\n",
    "    pxs = self.pixel_array\n",
    "    for f in stats: res['img_'+f] = getattr(pxs, f)()\n",
    "    res['img_pct_window'] = self.pct_in_window(*windows)\n",
    "    res['file_path'] = f'{self.PatientID}/{self.InstanceNumber}.dcm'\n",
    "    return res"
   ]
  },
  {
   "cell_type": "code",
   "execution_count": null,
   "metadata": {},
   "outputs": [],
   "source": [
    "#export\n",
    "def _dcm2dict2(fn, windows, **kwargs): return fn.dcmread().updated_dict(windows, **kwargs)"
   ]
  },
  {
   "cell_type": "code",
   "execution_count": null,
   "metadata": {},
   "outputs": [],
   "source": [
    "#export\n",
    "@delegates(parallel)\n",
    "def _from_dicoms2(cls, fns, n_workers=0, **kwargs):\n",
    "    return pd.DataFrame(parallel(_dcm2dict2, fns, n_workers=n_workers, **kwargs))\n",
    "pd.DataFrame.from_dicoms2 = classmethod(_from_dicoms2)"
   ]
  },
  {
   "cell_type": "markdown",
   "metadata": {},
   "source": [
    "`from_dicoms2` allows you to set the dicom window, for example in this case the `mediastinum` window is used"
   ]
  },
  {
   "cell_type": "code",
   "execution_count": null,
   "metadata": {},
   "outputs": [
    {
     "data": {
      "text/html": [],
      "text/plain": [
       "<IPython.core.display.HTML object>"
      ]
     },
     "metadata": {},
     "output_type": "display_data"
    },
    {
     "data": {
      "text/html": [
       "<div>\n",
       "<style scoped>\n",
       "    .dataframe tbody tr th:only-of-type {\n",
       "        vertical-align: middle;\n",
       "    }\n",
       "\n",
       "    .dataframe tbody tr th {\n",
       "        vertical-align: top;\n",
       "    }\n",
       "\n",
       "    .dataframe thead th {\n",
       "        text-align: right;\n",
       "    }\n",
       "</style>\n",
       "<table border=\"1\" class=\"dataframe\">\n",
       "  <thead>\n",
       "    <tr style=\"text-align: right;\">\n",
       "      <th></th>\n",
       "      <th>SpecificCharacterSet</th>\n",
       "      <th>ImageType</th>\n",
       "      <th>SOPInstanceUID</th>\n",
       "      <th>Modality</th>\n",
       "      <th>Manufacturer</th>\n",
       "      <th>ManufacturerModelName</th>\n",
       "      <th>PatientName</th>\n",
       "      <th>PatientID</th>\n",
       "      <th>PatientSex</th>\n",
       "      <th>DeidentificationMethod</th>\n",
       "      <th>...</th>\n",
       "      <th>RescaleIntercept</th>\n",
       "      <th>RescaleSlope</th>\n",
       "      <th>RescaleType</th>\n",
       "      <th>fname</th>\n",
       "      <th>img_min</th>\n",
       "      <th>img_max</th>\n",
       "      <th>img_mean</th>\n",
       "      <th>img_std</th>\n",
       "      <th>img_pct_window</th>\n",
       "      <th>file_path</th>\n",
       "    </tr>\n",
       "  </thead>\n",
       "  <tbody>\n",
       "    <tr>\n",
       "      <th>0</th>\n",
       "      <td>ISO_IR 100</td>\n",
       "      <td>[ORIGINAL, PRIMARY, AXIAL]</td>\n",
       "      <td>2.25.12297650151329871895440507938349160734</td>\n",
       "      <td>CT</td>\n",
       "      <td>GE MEDICAL SYSTEMS</td>\n",
       "      <td>LightSpeed VCT</td>\n",
       "      <td>(I, D, 0, 0, 0, 0, 7, 6, 3, 7, 2, 0, 2, 1, 7, 7, 4, 1, 1, 9, 5, 6, 4, 3, 0)</td>\n",
       "      <td>ID00007637202177411956430</td>\n",
       "      <td></td>\n",
       "      <td>Table;</td>\n",
       "      <td>...</td>\n",
       "      <td>-1024.0</td>\n",
       "      <td>1.0</td>\n",
       "      <td>HU</td>\n",
       "      <td>D:\\Datasets\\osic-pulmonary-fibrosis-progression\\train\\ID00007637202177411956430\\1.dcm</td>\n",
       "      <td>-2000</td>\n",
       "      <td>2842</td>\n",
       "      <td>-1.454884</td>\n",
       "      <td>1137.488858</td>\n",
       "      <td>0.219498</td>\n",
       "      <td>ID00007637202177411956430/1.dcm</td>\n",
       "    </tr>\n",
       "    <tr>\n",
       "      <th>1</th>\n",
       "      <td>ISO_IR 100</td>\n",
       "      <td>[ORIGINAL, PRIMARY, AXIAL]</td>\n",
       "      <td>2.25.37611372879908126511187998276199853341</td>\n",
       "      <td>CT</td>\n",
       "      <td>GE MEDICAL SYSTEMS</td>\n",
       "      <td>LightSpeed VCT</td>\n",
       "      <td>(I, D, 0, 0, 0, 0, 7, 6, 3, 7, 2, 0, 2, 1, 7, 7, 4, 1, 1, 9, 5, 6, 4, 3, 0)</td>\n",
       "      <td>ID00007637202177411956430</td>\n",
       "      <td></td>\n",
       "      <td>Table;</td>\n",
       "      <td>...</td>\n",
       "      <td>-1024.0</td>\n",
       "      <td>1.0</td>\n",
       "      <td>HU</td>\n",
       "      <td>D:\\Datasets\\osic-pulmonary-fibrosis-progression\\train\\ID00007637202177411956430\\10.dcm</td>\n",
       "      <td>-2000</td>\n",
       "      <td>2918</td>\n",
       "      <td>19.038597</td>\n",
       "      <td>1138.876560</td>\n",
       "      <td>0.248634</td>\n",
       "      <td>ID00007637202177411956430/10.dcm</td>\n",
       "    </tr>\n",
       "  </tbody>\n",
       "</table>\n",
       "<p>2 rows × 54 columns</p>\n",
       "</div>"
      ],
      "text/plain": [
       "  SpecificCharacterSet                   ImageType  \\\n",
       "0           ISO_IR 100  [ORIGINAL, PRIMARY, AXIAL]   \n",
       "1           ISO_IR 100  [ORIGINAL, PRIMARY, AXIAL]   \n",
       "\n",
       "                                SOPInstanceUID Modality        Manufacturer  \\\n",
       "0  2.25.12297650151329871895440507938349160734       CT  GE MEDICAL SYSTEMS   \n",
       "1  2.25.37611372879908126511187998276199853341       CT  GE MEDICAL SYSTEMS   \n",
       "\n",
       "  ManufacturerModelName  \\\n",
       "0        LightSpeed VCT   \n",
       "1        LightSpeed VCT   \n",
       "\n",
       "                                                                   PatientName  \\\n",
       "0  (I, D, 0, 0, 0, 0, 7, 6, 3, 7, 2, 0, 2, 1, 7, 7, 4, 1, 1, 9, 5, 6, 4, 3, 0)   \n",
       "1  (I, D, 0, 0, 0, 0, 7, 6, 3, 7, 2, 0, 2, 1, 7, 7, 4, 1, 1, 9, 5, 6, 4, 3, 0)   \n",
       "\n",
       "                   PatientID PatientSex DeidentificationMethod  ...  \\\n",
       "0  ID00007637202177411956430                            Table;  ...   \n",
       "1  ID00007637202177411956430                            Table;  ...   \n",
       "\n",
       "  RescaleIntercept  RescaleSlope  RescaleType  \\\n",
       "0          -1024.0           1.0           HU   \n",
       "1          -1024.0           1.0           HU   \n",
       "\n",
       "                                                                                    fname  \\\n",
       "0   D:\\Datasets\\osic-pulmonary-fibrosis-progression\\train\\ID00007637202177411956430\\1.dcm   \n",
       "1  D:\\Datasets\\osic-pulmonary-fibrosis-progression\\train\\ID00007637202177411956430\\10.dcm   \n",
       "\n",
       "   img_min  img_max   img_mean      img_std  img_pct_window  \\\n",
       "0    -2000     2842  -1.454884  1137.488858        0.219498   \n",
       "1    -2000     2918  19.038597  1138.876560        0.248634   \n",
       "\n",
       "                          file_path  \n",
       "0   ID00007637202177411956430/1.dcm  \n",
       "1  ID00007637202177411956430/10.dcm  \n",
       "\n",
       "[2 rows x 54 columns]"
      ]
     },
     "execution_count": null,
     "metadata": {},
     "output_type": "execute_result"
    }
   ],
   "source": [
    "dicom_dataframe = pd.DataFrame.from_dicoms2(m_items, windows=dicom_windows.mediastinum)\n",
    "dicom_dataframe[:2]"
   ]
  },
  {
   "cell_type": "markdown",
   "metadata": {},
   "source": [
    "In this case the `lungs` window was used"
   ]
  },
  {
   "cell_type": "code",
   "execution_count": null,
   "metadata": {},
   "outputs": [
    {
     "data": {
      "text/html": [],
      "text/plain": [
       "<IPython.core.display.HTML object>"
      ]
     },
     "metadata": {},
     "output_type": "display_data"
    },
    {
     "data": {
      "text/html": [
       "<div>\n",
       "<style scoped>\n",
       "    .dataframe tbody tr th:only-of-type {\n",
       "        vertical-align: middle;\n",
       "    }\n",
       "\n",
       "    .dataframe tbody tr th {\n",
       "        vertical-align: top;\n",
       "    }\n",
       "\n",
       "    .dataframe thead th {\n",
       "        text-align: right;\n",
       "    }\n",
       "</style>\n",
       "<table border=\"1\" class=\"dataframe\">\n",
       "  <thead>\n",
       "    <tr style=\"text-align: right;\">\n",
       "      <th></th>\n",
       "      <th>SpecificCharacterSet</th>\n",
       "      <th>ImageType</th>\n",
       "      <th>SOPInstanceUID</th>\n",
       "      <th>Modality</th>\n",
       "      <th>Manufacturer</th>\n",
       "      <th>ManufacturerModelName</th>\n",
       "      <th>PatientName</th>\n",
       "      <th>PatientID</th>\n",
       "      <th>PatientSex</th>\n",
       "      <th>DeidentificationMethod</th>\n",
       "      <th>...</th>\n",
       "      <th>RescaleIntercept</th>\n",
       "      <th>RescaleSlope</th>\n",
       "      <th>RescaleType</th>\n",
       "      <th>fname</th>\n",
       "      <th>img_min</th>\n",
       "      <th>img_max</th>\n",
       "      <th>img_mean</th>\n",
       "      <th>img_std</th>\n",
       "      <th>img_pct_window</th>\n",
       "      <th>file_path</th>\n",
       "    </tr>\n",
       "  </thead>\n",
       "  <tbody>\n",
       "    <tr>\n",
       "      <th>0</th>\n",
       "      <td>ISO_IR 100</td>\n",
       "      <td>[ORIGINAL, PRIMARY, AXIAL]</td>\n",
       "      <td>2.25.12297650151329871895440507938349160734</td>\n",
       "      <td>CT</td>\n",
       "      <td>GE MEDICAL SYSTEMS</td>\n",
       "      <td>LightSpeed VCT</td>\n",
       "      <td>(I, D, 0, 0, 0, 0, 7, 6, 3, 7, 2, 0, 2, 1, 7, 7, 4, 1, 1, 9, 5, 6, 4, 3, 0)</td>\n",
       "      <td>ID00007637202177411956430</td>\n",
       "      <td></td>\n",
       "      <td>Table;</td>\n",
       "      <td>...</td>\n",
       "      <td>-1024.0</td>\n",
       "      <td>1.0</td>\n",
       "      <td>HU</td>\n",
       "      <td>D:\\Datasets\\osic-pulmonary-fibrosis-progression\\train\\ID00007637202177411956430\\1.dcm</td>\n",
       "      <td>-2000</td>\n",
       "      <td>2842</td>\n",
       "      <td>-1.454884</td>\n",
       "      <td>1137.488858</td>\n",
       "      <td>0.702209</td>\n",
       "      <td>ID00007637202177411956430/1.dcm</td>\n",
       "    </tr>\n",
       "    <tr>\n",
       "      <th>1</th>\n",
       "      <td>ISO_IR 100</td>\n",
       "      <td>[ORIGINAL, PRIMARY, AXIAL]</td>\n",
       "      <td>2.25.37611372879908126511187998276199853341</td>\n",
       "      <td>CT</td>\n",
       "      <td>GE MEDICAL SYSTEMS</td>\n",
       "      <td>LightSpeed VCT</td>\n",
       "      <td>(I, D, 0, 0, 0, 0, 7, 6, 3, 7, 2, 0, 2, 1, 7, 7, 4, 1, 1, 9, 5, 6, 4, 3, 0)</td>\n",
       "      <td>ID00007637202177411956430</td>\n",
       "      <td></td>\n",
       "      <td>Table;</td>\n",
       "      <td>...</td>\n",
       "      <td>-1024.0</td>\n",
       "      <td>1.0</td>\n",
       "      <td>HU</td>\n",
       "      <td>D:\\Datasets\\osic-pulmonary-fibrosis-progression\\train\\ID00007637202177411956430\\10.dcm</td>\n",
       "      <td>-2000</td>\n",
       "      <td>2918</td>\n",
       "      <td>19.038597</td>\n",
       "      <td>1138.876560</td>\n",
       "      <td>0.720448</td>\n",
       "      <td>ID00007637202177411956430/10.dcm</td>\n",
       "    </tr>\n",
       "  </tbody>\n",
       "</table>\n",
       "<p>2 rows × 54 columns</p>\n",
       "</div>"
      ],
      "text/plain": [
       "  SpecificCharacterSet                   ImageType  \\\n",
       "0           ISO_IR 100  [ORIGINAL, PRIMARY, AXIAL]   \n",
       "1           ISO_IR 100  [ORIGINAL, PRIMARY, AXIAL]   \n",
       "\n",
       "                                SOPInstanceUID Modality        Manufacturer  \\\n",
       "0  2.25.12297650151329871895440507938349160734       CT  GE MEDICAL SYSTEMS   \n",
       "1  2.25.37611372879908126511187998276199853341       CT  GE MEDICAL SYSTEMS   \n",
       "\n",
       "  ManufacturerModelName  \\\n",
       "0        LightSpeed VCT   \n",
       "1        LightSpeed VCT   \n",
       "\n",
       "                                                                   PatientName  \\\n",
       "0  (I, D, 0, 0, 0, 0, 7, 6, 3, 7, 2, 0, 2, 1, 7, 7, 4, 1, 1, 9, 5, 6, 4, 3, 0)   \n",
       "1  (I, D, 0, 0, 0, 0, 7, 6, 3, 7, 2, 0, 2, 1, 7, 7, 4, 1, 1, 9, 5, 6, 4, 3, 0)   \n",
       "\n",
       "                   PatientID PatientSex DeidentificationMethod  ...  \\\n",
       "0  ID00007637202177411956430                            Table;  ...   \n",
       "1  ID00007637202177411956430                            Table;  ...   \n",
       "\n",
       "  RescaleIntercept  RescaleSlope  RescaleType  \\\n",
       "0          -1024.0           1.0           HU   \n",
       "1          -1024.0           1.0           HU   \n",
       "\n",
       "                                                                                    fname  \\\n",
       "0   D:\\Datasets\\osic-pulmonary-fibrosis-progression\\train\\ID00007637202177411956430\\1.dcm   \n",
       "1  D:\\Datasets\\osic-pulmonary-fibrosis-progression\\train\\ID00007637202177411956430\\10.dcm   \n",
       "\n",
       "   img_min  img_max   img_mean      img_std  img_pct_window  \\\n",
       "0    -2000     2842  -1.454884  1137.488858        0.702209   \n",
       "1    -2000     2918  19.038597  1138.876560        0.720448   \n",
       "\n",
       "                          file_path  \n",
       "0   ID00007637202177411956430/1.dcm  \n",
       "1  ID00007637202177411956430/10.dcm  \n",
       "\n",
       "[2 rows x 54 columns]"
      ]
     },
     "execution_count": null,
     "metadata": {},
     "output_type": "execute_result"
    }
   ],
   "source": [
    "dicom_dataframe = pd.DataFrame.from_dicoms2(m_items, windows=dicom_windows.lungs)\n",
    "dicom_dataframe[:2]"
   ]
  },
  {
   "cell_type": "markdown",
   "metadata": {},
   "source": [
    "## Move Files"
   ]
  },
  {
   "cell_type": "markdown",
   "metadata": {},
   "source": [
    "> Note: View dicom dataframe and `move_files` tutorial on Kaggle (click on Kaggle icon)\n",
    "\n",
    "[![kaggle](images/kaggle.PNG)](https://www.kaggle.com/avirdee/dicom-dataframe-tutorial/)"
   ]
  },
  {
   "cell_type": "markdown",
   "metadata": {},
   "source": [
    "> Note: Take note of this."
   ]
  },
  {
   "cell_type": "code",
   "execution_count": null,
   "metadata": {},
   "outputs": [],
   "source": [
    "#export\n",
    "def move_files(df, source, save_path):\n",
    "    \"helper to move files\"\n",
    "    for i in df.index:\n",
    "        #patient ID\n",
    "        patid = str(df.PatientID[i])\n",
    "        window = str(df.img_pct_window[i])\n",
    "        \n",
    "        #fname\n",
    "        filename = str(df.fname[i]).split('/')[-1]\n",
    "        img = filename.split('.')[0]\n",
    "        print(f'ID: {patid} window: {window} instance: {img}')\n",
    "        \n",
    "        folder_path = save_path + patid\n",
    "        if not os.path.exists(folder_path):\n",
    "            os.makedirs(folder_path)   \n",
    "        img_file = Path(f'{source}/train/{patid}/{img}.dcm')\n",
    "        shutil.copy(img_file, folder_path, follow_symlinks=True)"
   ]
  },
  {
   "cell_type": "code",
   "execution_count": null,
   "metadata": {},
   "outputs": [
    {
     "data": {
      "text/markdown": [
       "<h4 id=\"move_files\" class=\"doc_header\"><code>move_files</code><a href=\"__main__.py#L2\" class=\"source_link\" style=\"float:right\">[source]</a></h4>\n",
       "\n",
       "> <code>move_files</code>(**`df`**, **`source`**, **`save_path`**)\n",
       "\n",
       "helper to move files"
      ],
      "text/plain": [
       "<IPython.core.display.Markdown object>"
      ]
     },
     "metadata": {},
     "output_type": "display_data"
    }
   ],
   "source": [
    "show_doc(move_files)"
   ]
  },
  {
   "cell_type": "markdown",
   "metadata": {},
   "source": [
    "### dicom convert 3channel"
   ]
  },
  {
   "cell_type": "code",
   "execution_count": null,
   "metadata": {},
   "outputs": [],
   "source": [
    "#export\n",
    "def dicom_convert_3channel(fn:(Path,str), save_dir:(str), win1=dicom_windows.lungs, \\\n",
    "                           win2=dicom_windows.liver, win3=dicom_windows.brain):\n",
    "    \"Split a dicom image into 3 windows with one window per channel and saved as jpg\"\n",
    "    data = dcmread(fn)\n",
    "    file_name = str(fn); name = file_name.split('\\\\')[-1].split('.')[0]\n",
    "        \n",
    "    chan_one = np.expand_dims(data.windowed(*win1), axis=2)\n",
    "    chan_two = np.expand_dims(data.windowed(*win2), axis=2)\n",
    "    chan_three = np.expand_dims(data.windowed(*(win3)), axis=2)\n",
    "    image = np.concatenate([chan_one, chan_two, chan_three], axis=2)\n",
    "    ten_image = TensorImage(image).permute(2,0,1)\n",
    "    save_image(ten_image, f'{save_dir}/{name}.jpg')"
   ]
  },
  {
   "cell_type": "code",
   "execution_count": null,
   "metadata": {},
   "outputs": [
    {
     "data": {
      "text/markdown": [
       "<h4 id=\"dicom_convert_3channel\" class=\"doc_header\"><code>dicom_convert_3channel</code><a href=\"__main__.py#L2\" class=\"source_link\" style=\"float:right\">[source]</a></h4>\n",
       "\n",
       "> <code>dicom_convert_3channel</code>(**`fn`**:`Path'>, <class 'str'>)`, **`save_dir`**:`str`, **`win1`**=*`(1500, -600)`*, **`win2`**=*`(150, 30)`*, **`win3`**=*`(80, 40)`*)\n",
       "\n",
       "Split a dicom image into 3 windows with one window per channel and saved as jpg"
      ],
      "text/plain": [
       "<IPython.core.display.Markdown object>"
      ]
     },
     "metadata": {},
     "output_type": "display_data"
    }
   ],
   "source": [
    "show_doc(dicom_convert_3channel)"
   ]
  },
  {
   "cell_type": "markdown",
   "metadata": {},
   "source": [
    "To see how `dicom_convert_3channel works`, specify a save directory and choose a test file"
   ]
  },
  {
   "cell_type": "code",
   "execution_count": null,
   "metadata": {},
   "outputs": [
    {
     "data": {
      "text/plain": [
       "Path('D:/Datasets/osic-pulmonary-fibrosis-progression/train/ID00007637202177411956430/20.dcm')"
      ]
     },
     "execution_count": null,
     "metadata": {},
     "output_type": "execute_result"
    }
   ],
   "source": [
    "save_dir = 'D:/Datasets/osic-pulmonary-fibrosis-progression/test3c/'\n",
    "test1 = m_items[12]\n",
    "test1"
   ]
  },
  {
   "cell_type": "markdown",
   "metadata": {},
   "source": [
    "Choose 3 windows, one for each channel, in this case `lungs`, `mediastinum` and `pe`"
   ]
  },
  {
   "cell_type": "code",
   "execution_count": null,
   "metadata": {},
   "outputs": [],
   "source": [
    "dicom_convert_3channel(test1, save_dir, win1=dicom_windows.lungs, win2=dicom_windows.mediastinum, win3=dicom_windows.pe)"
   ]
  },
  {
   "cell_type": "markdown",
   "metadata": {},
   "source": [
    "Load the saved image which saves with the same name as the input image name"
   ]
  },
  {
   "cell_type": "code",
   "execution_count": null,
   "metadata": {},
   "outputs": [
    {
     "data": {
      "text/plain": [
       "torch.Size([512, 512, 3])"
      ]
     },
     "execution_count": null,
     "metadata": {},
     "output_type": "execute_result"
    }
   ],
   "source": [
    "saved_image = PILImage.create('D:/Datasets/osic-pulmonary-fibrosis-progression/test3c/20.jpg')\n",
    "saved_ten = TensorImage(saved_image)\n",
    "saved_ten.shape"
   ]
  },
  {
   "cell_type": "markdown",
   "metadata": {},
   "source": [
    "### Dicom Splitter"
   ]
  },
  {
   "cell_type": "markdown",
   "metadata": {},
   "source": [
    "> Note: View dicom splitter tutorial on kaggle (click Kaggle icon)\n",
    "\n",
    "[![kaggle](images/kaggle.PNG)](https://www.kaggle.com/avirdee/dicom-splitter-tutorial/)"
   ]
  },
  {
   "cell_type": "code",
   "execution_count": null,
   "metadata": {},
   "outputs": [],
   "source": [
    "#export\n",
    "def dicomsplit(valid_pct=0.2, seed=None, **kwargs):\n",
    "    \"Splits `items` between train/val with `valid_pct`\"\n",
    "    \"and checks if identical patient IDs exist in both the train and valid sets\"\n",
    "    def _inner(o, **kwargs):\n",
    "        train_list = []; valid_list = []\n",
    "        if seed is not None: torch.manual_seed(seed)\n",
    "        rand_idx = L(int(i) for i in torch.randperm(len(o)))\n",
    "        cut = int(valid_pct * len(o))\n",
    "        trn = rand_idx[cut:]; trn_p = o[rand_idx[cut:]]\n",
    "        val = rand_idx[:cut]; val_p = o[rand_idx[:cut]]\n",
    "        train_patient = []; train_images = []\n",
    "        for i, tfile in enumerate(trn_p):\n",
    "            file = dcmread(tfile)\n",
    "            tpat = file.PatientID\n",
    "            train_patient.append(tpat)\n",
    "            file_array = dcmread(tfile).pixel_array\n",
    "            train_images.append(file_array)\n",
    "        val_patient = []; val_images = []\n",
    "        for i, vfile in enumerate(val_p):\n",
    "            file2 = dcmread(vfile)\n",
    "            vpat = file2.PatientID\n",
    "            val_patient.append(vpat)\n",
    "            val_array = dcmread(vfile).pixel_array\n",
    "            val_images.append(val_array)\n",
    "    \n",
    "        print(rand_idx)\n",
    "        print(f'Train: {trn}, {train_patient}')\n",
    "        show_images(train_images[:20])\n",
    "        print(f'Val: {val}, {val_patient}')\n",
    "        show_images(val_images[:20])\n",
    "        is_duplicate = set(train_patient) & set(val_patient)\n",
    "        print(f'Duplicate: {set(train_patient) & set(val_patient)}')\n",
    "        new_list = []\n",
    "        if bool(is_duplicate) is not False:\n",
    "            print('duplicate exists')\n",
    "            new_list = [elem for elem in train_patient if elem not in val_patient ]\n",
    "            print(f'New List: {new_list}')\n",
    "        else:\n",
    "            print('duplicate does NOT exist')\n",
    "            new_list = trn\n",
    "        return new_list, val\n",
    "    return _inner"
   ]
  },
  {
   "cell_type": "code",
   "execution_count": null,
   "metadata": {},
   "outputs": [
    {
     "data": {
      "text/markdown": [
       "<h4 id=\"dicomsplit\" class=\"doc_header\"><code>dicomsplit</code><a href=\"__main__.py#L2\" class=\"source_link\" style=\"float:right\">[source]</a></h4>\n",
       "\n",
       "> <code>dicomsplit</code>(**`valid_pct`**=*`0.2`*, **`seed`**=*`None`*, **\\*\\*`kwargs`**)\n",
       "\n",
       "Splits `items` between train/val with `valid_pct`"
      ],
      "text/plain": [
       "<IPython.core.display.Markdown object>"
      ]
     },
     "metadata": {},
     "output_type": "display_data"
    }
   ],
   "source": [
    "show_doc(dicomsplit)"
   ]
  },
  {
   "cell_type": "code",
   "execution_count": null,
   "metadata": {},
   "outputs": [],
   "source": [
    "#export\n",
    "def check_duplicate(items, seed=5):\n",
    "    trn, val = dicomsplit(valid_pct=0.2, seed=seed)(items)\n",
    "    return trn, val"
   ]
  },
  {
   "cell_type": "code",
   "execution_count": null,
   "metadata": {},
   "outputs": [],
   "source": [
    "#export\n",
    "def dicom_splitter(items, valid_pct=0.2, seed=77):\n",
    "    trn, val = dicomsplit(valid_pct=valid_pct)(items)\n",
    "    valid_idx = val\n",
    "    def _inner(o):\n",
    "        train_idx = np.setdiff1d(np.array(range_of(o)), np.array(valid_idx))\n",
    "        print(f'train:{train_idx} val:{valid_idx}')\n",
    "        return L(train_idx, use_list=True), L(valid_idx, use_list=True)\n",
    "    return _inner"
   ]
  },
  {
   "cell_type": "code",
   "execution_count": null,
   "metadata": {},
   "outputs": [
    {
     "data": {
      "text/markdown": [
       "<h4 id=\"dicom_splitter\" class=\"doc_header\"><code>dicom_splitter</code><a href=\"__main__.py#L2\" class=\"source_link\" style=\"float:right\">[source]</a></h4>\n",
       "\n",
       "> <code>dicom_splitter</code>(**`items`**, **`valid_pct`**=*`0.2`*, **`seed`**=*`77`*)\n",
       "\n"
      ],
      "text/plain": [
       "<IPython.core.display.Markdown object>"
      ]
     },
     "metadata": {},
     "output_type": "display_data"
    }
   ],
   "source": [
    "show_doc(dicom_splitter)"
   ]
  },
  {
   "cell_type": "markdown",
   "metadata": {},
   "source": [
    "Check to see how `dicom_splittter` works.  First create a random generating function that will choose 10 random numbers between a range of 0 and the length of the number of items"
   ]
  },
  {
   "cell_type": "code",
   "execution_count": null,
   "metadata": {},
   "outputs": [],
   "source": [
    "def random_(items, value=10):\n",
    "    randomList = []\n",
    "    for i in range(0,value):\n",
    "        randomList.append(random.randint(0,len(items)))\n",
    "    return items[randomList]"
   ]
  },
  {
   "cell_type": "code",
   "execution_count": null,
   "metadata": {},
   "outputs": [
    {
     "data": {
      "text/plain": [
       "(#10) [Path('D:/Datasets/osic-pulmonary-fibrosis-progression/train/ID00035637202182204917484/310.dcm'),Path('D:/Datasets/osic-pulmonary-fibrosis-progression/train/ID00381637202299644114027/252.dcm'),Path('D:/Datasets/osic-pulmonary-fibrosis-progression/train/ID00051637202185848464638/17.dcm'),Path('D:/Datasets/osic-pulmonary-fibrosis-progression/train/ID00173637202238329754031/217.dcm'),Path('D:/Datasets/osic-pulmonary-fibrosis-progression/train/ID00283637202278714365037/103.dcm'),Path('D:/Datasets/osic-pulmonary-fibrosis-progression/train/ID00129637202219868188000/25.dcm'),Path('D:/Datasets/osic-pulmonary-fibrosis-progression/train/ID00273637202271319294586/41.dcm'),Path('D:/Datasets/osic-pulmonary-fibrosis-progression/train/ID00329637202285906759848/82.dcm'),Path('D:/Datasets/osic-pulmonary-fibrosis-progression/train/ID00317637202283194142136/468.dcm'),Path('D:/Datasets/osic-pulmonary-fibrosis-progression/train/ID00317637202283194142136/239.dcm')]"
      ]
     },
     "execution_count": null,
     "metadata": {},
     "output_type": "execute_result"
    }
   ],
   "source": [
    "items = get_dicom_files(source)\n",
    "rand_items = random_(items)\n",
    "rand_items"
   ]
  },
  {
   "cell_type": "markdown",
   "metadata": {},
   "source": [
    "`check_duplicate` shows the indices of the random 10 images chosen above.  By default the train/valid split is 80/20 so the train set has 8 images and the valid set has 2 images.  We can view the the 8 images in the train set and the 2 images in the valid set."
   ]
  },
  {
   "cell_type": "code",
   "execution_count": null,
   "metadata": {},
   "outputs": [
    {
     "name": "stdout",
     "output_type": "stream",
     "text": [
      "Converted 00_core.ipynb.\n",
      "Converted 01_explore.ipynb.\n",
      "Converted 02_page.ipynb.\n",
      "Converted 03_preprocessing.ipynb.\n",
      "Converted index.ipynb.\n"
     ]
    }
   ],
   "source": [
    "#hide\n",
    "from nbdev.export import notebook2script\n",
    "notebook2script()"
   ]
  },
  {
   "cell_type": "code",
   "execution_count": null,
   "metadata": {},
   "outputs": [],
   "source": []
  }
 ],
 "metadata": {
  "kernelspec": {
   "display_name": "Python 3",
   "language": "python",
   "name": "python3"
  }
 },
 "nbformat": 4,
 "nbformat_minor": 4
}
